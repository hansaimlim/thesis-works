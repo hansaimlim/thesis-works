{
 "cells": [
  {
   "cell_type": "code",
   "execution_count": 1,
   "metadata": {},
   "outputs": [],
   "source": [
    "import os\n",
    "import sys\n",
    "import re\n",
    "import json\n",
    "fasta_file='uniprot-gpcr-filtered-reviewed_yes.fasta'"
   ]
  },
  {
   "cell_type": "code",
   "execution_count": 11,
   "metadata": {},
   "outputs": [],
   "source": [
    "aa2num={}\n",
    "with open('protein.vocab','r') as f:\n",
    "    num=0\n",
    "    for line in f:\n",
    "        line=line.strip().split()\n",
    "        aa=line[0].lower()\n",
    "        aa2num[aa]=num\n",
    "        num+=1"
   ]
  },
  {
   "cell_type": "code",
   "execution_count": 12,
   "metadata": {},
   "outputs": [
    {
     "data": {
      "text/plain": [
       "{'a': 0,\n",
       " 'b': 1,\n",
       " 'c': 2,\n",
       " 'd': 3,\n",
       " 'e': 4,\n",
       " 'f': 5,\n",
       " 'g': 6,\n",
       " 'h': 7,\n",
       " 'i': 8,\n",
       " 'k': 9,\n",
       " 'l': 10,\n",
       " 'm': 11,\n",
       " 'n': 12,\n",
       " 'p': 13,\n",
       " 'q': 14,\n",
       " 'r': 15,\n",
       " 's': 16,\n",
       " 't': 17,\n",
       " 'u': 18,\n",
       " 'v': 19,\n",
       " 'w': 20,\n",
       " 'x': 21,\n",
       " 'y': 22,\n",
       " 'z': 23,\n",
       " '-': 24}"
      ]
     },
     "execution_count": 12,
     "metadata": {},
     "output_type": "execute_result"
    }
   ],
   "source": [
    "aa2num"
   ]
  },
  {
   "cell_type": "code",
   "execution_count": 13,
   "metadata": {},
   "outputs": [],
   "source": [
    "with open('gpcr_prot','w') as out1:\n",
    "    with open('gpcr_prot.repr','w') as out:\n",
    "        with open(fasta_file,'r') as f:\n",
    "            uni=''\n",
    "            seq=''\n",
    "            line_num=0\n",
    "            for line in f:\n",
    "                if line[0]=='>': #header\n",
    "                    if line_num>0:\n",
    "                        #output sequence representation\n",
    "                        out1.write(\"{}\\n\".format(uni))\n",
    "                        out.write(\"{}\\n\".format(' '.join([str(aa2num[s.lower()]) for s in seq])))\n",
    "                        seq=''\n",
    "                        uni=''\n",
    "                    line=line.strip().split('|')\n",
    "                    uni=line[1]\n",
    "                else:\n",
    "                    line=line.strip().split('\\t')\n",
    "                    seq+=line[0]\n",
    "                \n",
    "                line_num+=1"
   ]
  },
  {
   "cell_type": "code",
   "execution_count": 8,
   "metadata": {},
   "outputs": [
    {
     "data": {
      "text/plain": [
       "'m'"
      ]
     },
     "execution_count": 8,
     "metadata": {},
     "output_type": "execute_result"
    }
   ],
   "source": [
    "seq[0].lower()"
   ]
  },
  {
   "cell_type": "code",
   "execution_count": 14,
   "metadata": {},
   "outputs": [
    {
     "name": "stdout",
     "output_type": "stream",
     "text": [
      "/data/saturn/a/hlim/data_prep\n"
     ]
    }
   ],
   "source": [
    "!pwd"
   ]
  },
  {
   "cell_type": "code",
   "execution_count": null,
   "metadata": {},
   "outputs": [],
   "source": []
  }
 ],
 "metadata": {
  "kernelspec": {
   "display_name": "rdkit",
   "language": "python",
   "name": "rdkit"
  },
  "language_info": {
   "codemirror_mode": {
    "name": "ipython",
    "version": 3
   },
   "file_extension": ".py",
   "mimetype": "text/x-python",
   "name": "python",
   "nbconvert_exporter": "python",
   "pygments_lexer": "ipython3",
   "version": "3.7.2"
  }
 },
 "nbformat": 4,
 "nbformat_minor": 4
}
