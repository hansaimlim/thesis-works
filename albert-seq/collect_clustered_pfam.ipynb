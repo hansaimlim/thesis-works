{
 "cells": [
  {
   "cell_type": "code",
   "execution_count": 1,
   "metadata": {},
   "outputs": [],
   "source": [
    "import os\n",
    "import sys\n",
    "import re\n",
    "import time\n",
    "import codecs\n",
    "import numpy as np\n",
    "import pandas as pd\n",
    "import multiprocessing\n",
    "from multiprocessing import Pool\n",
    "import gc"
   ]
  },
  {
   "cell_type": "code",
   "execution_count": 2,
   "metadata": {},
   "outputs": [],
   "source": [
    "minimum_cluster_size=10 #clusters with fewer than this won't be re-calculated; use original pfam consensus instead\n",
    "ncpus=45\n",
    "max_seq_len=253\n",
    "gapchar='j'\n",
    "padchar='9'\n",
    "basedir='/data/saturn/a/hlim/pfam_clustered_corpora/'"
   ]
  },
  {
   "cell_type": "code",
   "execution_count": 3,
   "metadata": {},
   "outputs": [],
   "source": [
    "blosum62 = {\n",
    "    ('W', 'F'): 1, ('L', 'R'): -2, ('S', 'P'): -1, ('V', 'T'): 0,\n",
    "    ('Q', 'Q'): 5, ('N', 'A'): -2, ('Z', 'Y'): -2, ('W', 'R'): -3,\n",
    "    ('Q', 'A'): -1, ('S', 'D'): 0, ('H', 'H'): 8, ('S', 'H'): -1,\n",
    "    ('H', 'D'): -1, ('L', 'N'): -3, ('W', 'A'): -3, ('Y', 'M'): -1,\n",
    "    ('G', 'R'): -2, ('Y', 'I'): -1, ('Y', 'E'): -2, ('B', 'Y'): -3,\n",
    "    ('Y', 'A'): -2, ('V', 'D'): -3, ('B', 'S'): 0, ('Y', 'Y'): 7,\n",
    "    ('G', 'N'): 0, ('E', 'C'): -4, ('Y', 'Q'): -1, ('Z', 'Z'): 4,\n",
    "    ('V', 'A'): 0, ('C', 'C'): 9, ('M', 'R'): -1, ('V', 'E'): -2,\n",
    "    ('T', 'N'): 0, ('P', 'P'): 7, ('V', 'I'): 3, ('V', 'S'): -2,\n",
    "    ('Z', 'P'): -1, ('V', 'M'): 1, ('T', 'F'): -2, ('V', 'Q'): -2,\n",
    "    ('K', 'K'): 5, ('P', 'D'): -1, ('I', 'H'): -3, ('I', 'D'): -3,\n",
    "    ('T', 'R'): -1, ('P', 'L'): -3, ('K', 'G'): -2, ('M', 'N'): -2,\n",
    "    ('P', 'H'): -2, ('F', 'Q'): -3, ('Z', 'G'): -2, ('X', 'L'): -1,\n",
    "    ('T', 'M'): -1, ('Z', 'C'): -3, ('X', 'H'): -1, ('D', 'R'): -2,\n",
    "    ('B', 'W'): -4, ('X', 'D'): -1, ('Z', 'K'): 1, ('F', 'A'): -2,\n",
    "    ('Z', 'W'): -3, ('F', 'E'): -3, ('D', 'N'): 1, ('B', 'K'): 0,\n",
    "    ('X', 'X'): -1, ('F', 'I'): 0, ('B', 'G'): -1, ('X', 'T'): 0,\n",
    "    ('F', 'M'): 0, ('B', 'C'): -3, ('Z', 'I'): -3, ('Z', 'V'): -2,\n",
    "    ('S', 'S'): 4, ('L', 'Q'): -2, ('W', 'E'): -3, ('Q', 'R'): 1,\n",
    "    ('N', 'N'): 6, ('W', 'M'): -1, ('Q', 'C'): -3, ('W', 'I'): -3,\n",
    "    ('S', 'C'): -1, ('L', 'A'): -1, ('S', 'G'): 0, ('L', 'E'): -3,\n",
    "    ('W', 'Q'): -2, ('H', 'G'): -2, ('S', 'K'): 0, ('Q', 'N'): 0,\n",
    "    ('N', 'R'): 0, ('H', 'C'): -3, ('Y', 'N'): -2, ('G', 'Q'): -2,\n",
    "    ('Y', 'F'): 3, ('C', 'A'): 0, ('V', 'L'): 1, ('G', 'E'): -2,\n",
    "    ('G', 'A'): 0, ('K', 'R'): 2, ('E', 'D'): 2, ('Y', 'R'): -2,\n",
    "    ('M', 'Q'): 0, ('T', 'I'): -1, ('C', 'D'): -3, ('V', 'F'): -1,\n",
    "    ('T', 'A'): 0, ('T', 'P'): -1, ('B', 'P'): -2, ('T', 'E'): -1,\n",
    "    ('V', 'N'): -3, ('P', 'G'): -2, ('M', 'A'): -1, ('K', 'H'): -1,\n",
    "    ('V', 'R'): -3, ('P', 'C'): -3, ('M', 'E'): -2, ('K', 'L'): -2,\n",
    "    ('V', 'V'): 4, ('M', 'I'): 1, ('T', 'Q'): -1, ('I', 'G'): -4,\n",
    "    ('P', 'K'): -1, ('M', 'M'): 5, ('K', 'D'): -1, ('I', 'C'): -1,\n",
    "    ('Z', 'D'): 1, ('F', 'R'): -3, ('X', 'K'): -1, ('Q', 'D'): 0,\n",
    "    ('X', 'G'): -1, ('Z', 'L'): -3, ('X', 'C'): -2, ('Z', 'H'): 0,\n",
    "    ('B', 'L'): -4, ('B', 'H'): 0, ('F', 'F'): 6, ('X', 'W'): -2,\n",
    "    ('B', 'D'): 4, ('D', 'A'): -2, ('S', 'L'): -2, ('X', 'S'): 0,\n",
    "    ('F', 'N'): -3, ('S', 'R'): -1, ('W', 'D'): -4, ('V', 'Y'): -1,\n",
    "    ('W', 'L'): -2, ('H', 'R'): 0, ('W', 'H'): -2, ('H', 'N'): 1,\n",
    "    ('W', 'T'): -2, ('T', 'T'): 5, ('S', 'F'): -2, ('W', 'P'): -4,\n",
    "    ('L', 'D'): -4, ('B', 'I'): -3, ('L', 'H'): -3, ('S', 'N'): 1,\n",
    "    ('B', 'T'): -1, ('L', 'L'): 4, ('Y', 'K'): -2, ('E', 'Q'): 2,\n",
    "    ('Y', 'G'): -3, ('Z', 'S'): 0, ('Y', 'C'): -2, ('G', 'D'): -1,\n",
    "    ('B', 'V'): -3, ('E', 'A'): -1, ('Y', 'W'): 2, ('E', 'E'): 5,\n",
    "    ('Y', 'S'): -2, ('C', 'N'): -3, ('V', 'C'): -1, ('T', 'H'): -2,\n",
    "    ('P', 'R'): -2, ('V', 'G'): -3, ('T', 'L'): -1, ('V', 'K'): -2,\n",
    "    ('K', 'Q'): 1, ('R', 'A'): -1, ('I', 'R'): -3, ('T', 'D'): -1,\n",
    "    ('P', 'F'): -4, ('I', 'N'): -3, ('K', 'I'): -3, ('M', 'D'): -3,\n",
    "    ('V', 'W'): -3, ('W', 'W'): 11, ('M', 'H'): -2, ('P', 'N'): -2,\n",
    "    ('K', 'A'): -1, ('M', 'L'): 2, ('K', 'E'): 1, ('Z', 'E'): 4,\n",
    "    ('X', 'N'): -1, ('Z', 'A'): -1, ('Z', 'M'): -1, ('X', 'F'): -1,\n",
    "    ('K', 'C'): -3, ('B', 'Q'): 0, ('X', 'B'): -1, ('B', 'M'): -3,\n",
    "    ('F', 'C'): -2, ('Z', 'Q'): 3, ('X', 'Z'): -1, ('F', 'G'): -3,\n",
    "    ('B', 'E'): 1, ('X', 'V'): -1, ('F', 'K'): -3, ('B', 'A'): -2,\n",
    "    ('X', 'R'): -1, ('D', 'D'): 6, ('W', 'G'): -2, ('Z', 'F'): -3,\n",
    "    ('S', 'Q'): 0, ('W', 'C'): -2, ('W', 'K'): -3, ('H', 'Q'): 0,\n",
    "    ('L', 'C'): -1, ('W', 'N'): -4, ('S', 'A'): 1, ('L', 'G'): -4,\n",
    "    ('W', 'S'): -3, ('S', 'E'): 0, ('H', 'E'): 0, ('S', 'I'): -2,\n",
    "    ('H', 'A'): -2, ('S', 'M'): -1, ('Y', 'L'): -1, ('Y', 'H'): 2,\n",
    "    ('Y', 'D'): -3, ('E', 'R'): 0, ('X', 'P'): -2, ('G', 'G'): 6,\n",
    "    ('G', 'C'): -3, ('E', 'N'): 0, ('Y', 'T'): -2, ('Y', 'P'): -3,\n",
    "    ('T', 'K'): -1, ('A', 'A'): 4, ('P', 'Q'): -1, ('T', 'C'): -1,\n",
    "    ('V', 'H'): -3, ('T', 'G'): -2, ('I', 'Q'): -3, ('Z', 'T'): -1,\n",
    "    ('C', 'R'): -3, ('V', 'P'): -2, ('P', 'E'): -1, ('M', 'C'): -1,\n",
    "    ('K', 'N'): 0, ('I', 'I'): 4, ('P', 'A'): -1, ('M', 'G'): -3,\n",
    "    ('T', 'S'): 1, ('I', 'E'): -3, ('P', 'M'): -2, ('M', 'K'): -1,\n",
    "    ('I', 'A'): -1, ('P', 'I'): -3, ('R', 'R'): 5, ('X', 'M'): -1,\n",
    "    ('L', 'I'): 2, ('X', 'I'): -1, ('Z', 'B'): 1, ('X', 'E'): -1,\n",
    "    ('Z', 'N'): 0, ('X', 'A'): 0, ('B', 'R'): -1, ('B', 'N'): 3,\n",
    "    ('F', 'D'): -3, ('X', 'Y'): -1, ('Z', 'R'): 0, ('F', 'H'): -1,\n",
    "    ('B', 'F'): -3, ('F', 'L'): 0, ('X', 'Q'): -1, ('B', 'B'): 4\n",
    "}\n",
    "#custom entries to the matrix\n",
    "pairs=list(blosum62.keys())\n",
    "singles=[]\n",
    "for pair in pairs:\n",
    "    blosum62[(pair[1],pair[0])]=blosum62[pair]\n",
    "    singles.append(pair[0])\n",
    "    singles.append(pair[1])\n",
    "singles=list(set(singles))\n",
    "for s in singles: #gap-substitution = -11\n",
    "    blosum62[('-',s)]=-11\n",
    "    blosum62[(s,'-')]=-11\n",
    "    blosum62[('.',s)]=-11\n",
    "    blosum62[(s,'.')]=-11\n",
    "    blosum62[(s,'O')]=0\n",
    "    blosum62[(s,'U')]=0\n",
    "    blosum62[('O',s)]=0\n",
    "    blosum62[('U',s)]=0\n",
    "blosum62[('.','.')]=0\n",
    "blosum62[('-','-')]=0\n",
    "blosum62[('.','-')]=0\n",
    "blosum62[('-','.')]=0\n",
    "blosum62[('O','O')]=10\n",
    "blosum62[('U','U')]=10\n",
    "blosum62[('O','U')]=0\n",
    "blosum62[('U','0')]=0\n",
    "blosum62[('O','-')]=-11\n",
    "blosum62[('U','-')]=-11\n",
    "blosum62[('-','O')]=-11\n",
    "blosum62[('-','U')]=-11\n",
    "blosum62[('O','.')]=-11\n",
    "blosum62[('U','.')]=-11\n",
    "blosum62[('.','O')]=-11\n",
    "blosum62[('.','U')]=-11"
   ]
  },
  {
   "cell_type": "code",
   "execution_count": 4,
   "metadata": {},
   "outputs": [
    {
     "data": {
      "text/plain": [
       "-11"
      ]
     },
     "execution_count": 4,
     "metadata": {},
     "output_type": "execute_result"
    }
   ],
   "source": [
    "blosum62[('O','-')]"
   ]
  },
  {
   "cell_type": "code",
   "execution_count": 5,
   "metadata": {},
   "outputs": [
    {
     "name": "stdout",
     "output_type": "stream",
     "text": [
      "17772\n"
     ]
    }
   ],
   "source": [
    "cluster_dir=os.path.join(basedir,'pfam_cdhit_clusters906030/')\n",
    "cluster_files=os.listdir(cluster_dir)\n",
    "print(len(cluster_files))"
   ]
  },
  {
   "cell_type": "code",
   "execution_count": 6,
   "metadata": {},
   "outputs": [],
   "source": [
    "\"\"\"\n",
    "How to collect MSA from Pfam\n",
    "Parse each Pfam file and get sequence on the fly\n",
    "\"\"\"\n",
    "pfam_dir='/data/saturn/a/hlim/Pfam/Pfam/' #.aln as extension\n",
    "#=GC seq_cons (consensus sequence from all family members; used in case sub-clusters are not sufficient)"
   ]
  },
  {
   "cell_type": "code",
   "execution_count": 7,
   "metadata": {},
   "outputs": [],
   "source": [
    "def collect_pfam_msa(pfamid):\n",
    "    pfam_msa={}\n",
    "    pfam_accession={}\n",
    "    with codecs.open(os.path.join(pfam_dir,pfamid+'.aln'),'r',encoding='utf-8', errors='replace') as inf:\n",
    "        for line in inf:\n",
    "            line=line.strip().split()\n",
    "            if len(line)<2:\n",
    "                continue\n",
    "            if line[0].startswith(\"#\"):\n",
    "                if line[0]==\"#=GS\":\n",
    "                    if line[2]==\"AC\":\n",
    "                        #=GS U5QJ87_9CYAN/28-322        AC U5QJ87.1\n",
    "                        seqid=line[1]\n",
    "                        uni=line[3]\n",
    "                        pfam_accession[seqid]=uni\n",
    "                elif line[0]==\"#=GC\":\n",
    "                    #=GC seq_cons\n",
    "                    pfam_msa['consensus']=line[2]\n",
    "            elif line[0].startswith('/'):\n",
    "                break\n",
    "            else:\n",
    "                seqid=line[0]\n",
    "                aligned_seq=line[1]\n",
    "                pfam_msa[seqid]=aligned_seq\n",
    "    return pfam_msa, pfam_accession\n",
    "            "
   ]
  },
  {
   "cell_type": "code",
   "execution_count": 8,
   "metadata": {},
   "outputs": [],
   "source": [
    "def select_positions_by_subcluster_consensus(seqlist,max_seq_len):\n",
    "    #input: seqlist=['ac-de','a--de','accde','ad-de','accee'], max_seq_len=3\n",
    "    #output: [0,3,4]\n",
    "    consensus_scores=[0.0]*len(seqlist[0])\n",
    "    for i,seq1 in enumerate(seqlist):\n",
    "        for j,seq2 in enumerate(seqlist):\n",
    "            if i<=j:\n",
    "                continue\n",
    "            try:\n",
    "                for pos in range(len(seqlist[0])):\n",
    "                    r1=seq1[pos].upper()\n",
    "                    r2=seq2[pos].upper()\n",
    "                    score=blosum62[(r1,r2)]\n",
    "                    consensus_scores[pos]+=score\n",
    "            except:\n",
    "                continue\n",
    "    selected_positions=sorted(np.argsort(consensus_scores)[::-1][:max_seq_len])\n",
    "    return selected_positions"
   ]
  },
  {
   "cell_type": "code",
   "execution_count": 9,
   "metadata": {},
   "outputs": [],
   "source": [
    "def select_positions_by_default_consensus(consensus,max_seq_len):\n",
    "    hcpositions=[] #high-conserved\n",
    "    lcpositions=[] #low-conserved\n",
    "    cspositions=[] #conservative-substitution\n",
    "    inspositions=[] #insertion '.'\n",
    "    delpositions=[] #deletion '-'\n",
    "    for i,aa in enumerate(consensus):\n",
    "        if aa.isupper():\n",
    "            hcpositions.append(i)\n",
    "        elif aa.islower():\n",
    "            lcpositions.append(i)\n",
    "        elif aa=='+':\n",
    "            cspositions.append(i)\n",
    "        elif aa=='.':\n",
    "            inspositions.append(i)\n",
    "        elif aa=='-':\n",
    "            delpositions.append(i)\n",
    "        else:\n",
    "            continue\n",
    "    selected_positions=hcpositions+lcpositions+cspositions\n",
    "    selected_positions=selected_positions[:max_seq_len]\n",
    "    selected_positions=sorted(selected_positions)\n",
    "    return selected_positions"
   ]
  },
  {
   "cell_type": "code",
   "execution_count": 10,
   "metadata": {},
   "outputs": [],
   "source": [
    "pfam_computational_load={} #key: pfamid, value: total number of calculation\n",
    "pfam_num_clusters={} #use to draw histogram\n",
    "cluster_members=[] #use to draw histogram\n",
    "for c in cluster_files:\n",
    "    pfamid=c.replace('.clstr','')\n",
    "    pfam_clusters={}\n",
    "    pfam_msa, pfam_accession=collect_pfam_msa(pfamid)\n",
    "    with open(os.path.join(cluster_dir,pfamid+'.clstr'),'r',encoding=\"utf-8\") as inf:\n",
    "        current_cluster='Cluster 0'\n",
    "        for line in inf:\n",
    "            if line.startswith('>'):\n",
    "                current_cluster=line.replace('>','')\n",
    "                pfam_clusters[current_cluster]=[]\n",
    "                continue\n",
    "            seqid=line.strip().split('>')[1].split('|')[0]\n",
    "            pfam_clusters[current_cluster].append(seqid)\n",
    "        seqlen=len(pfam_msa['consensus'])\n",
    "        npairs=0\n",
    "        for cl in pfam_clusters.keys():\n",
    "            nc=len(pfam_clusters[cl])\n",
    "            npairs += nc*(nc-1)/2\n",
    "            cluster_members.append(nc)\n",
    "        pfam_num_clusters[pfamid]=len(pfam_clusters)\n",
    "        pfam_computational_load[pfamid]=npairs*seqlen\n"
   ]
  },
  {
   "cell_type": "code",
   "execution_count": 11,
   "metadata": {},
   "outputs": [
    {
     "name": "stdout",
     "output_type": "stream",
     "text": [
      "4927442384622.0 82379799132.0\n"
     ]
    }
   ],
   "source": [
    "print(pfam_computational_load['PF00069.25'],pfam_computational_load['PF00001.21'])"
   ]
  },
  {
   "cell_type": "code",
   "execution_count": 12,
   "metadata": {},
   "outputs": [
    {
     "data": {
      "text/plain": [
       "[('PF11504.8', 0),\n",
       " ('PF01003.19', 0),\n",
       " ('PF18357.1', 0),\n",
       " ('PF01525.16', 0),\n",
       " ('PF10954.8', 0),\n",
       " ('PF11621.8', 0),\n",
       " ('PF17444.2', 0),\n",
       " ('PF17085.5', 0),\n",
       " ('PF06392.11', 0),\n",
       " ('PF01543.17', 0)]"
      ]
     },
     "execution_count": 12,
     "metadata": {},
     "output_type": "execute_result"
    }
   ],
   "source": [
    "ordered_families = sorted(pfam_computational_load.items(), key=lambda kv: kv[1])\n",
    "ordered_families[:10]"
   ]
  },
  {
   "cell_type": "code",
   "execution_count": 13,
   "metadata": {},
   "outputs": [
    {
     "data": {
      "text/plain": [
       "[('PF00005.27', 9319161838840.0),\n",
       " ('PF00171.22', 6744077346012.0),\n",
       " ('PF00069.25', 4927442384622.0),\n",
       " ('PF00012.20', 1546974556032.0),\n",
       " ('PF00083.24', 1458139329660.0)]"
      ]
     },
     "execution_count": 13,
     "metadata": {},
     "output_type": "execute_result"
    }
   ],
   "source": [
    "ordered_families[::-1][:5]"
   ]
  },
  {
   "cell_type": "code",
   "execution_count": null,
   "metadata": {},
   "outputs": [],
   "source": [
    "\"\"\"\n",
    "Prepare for clustered pfam representations\n",
    "\"\"\"\n",
    "def preprocess_pfam(x):\n",
    "    pfamid=x\n",
    "    pfam_clusters={} #key: cluster id, value: [seq ids]\n",
    "    pfam_file=os.path.join(pfam_dir,pfamid+'.aln')\n",
    "    pfam_msa, pfam_accession=collect_pfam_msa(pfamid)\n",
    "    selected_positions_default=select_positions_by_default_consensus(pfam_msa['consensus'],max_seq_len)\n",
    "    all_singlets=open(os.path.join(basedir,'all_pfam_singlet_withID/'+pfamid),'w')\n",
    "    all_triplets=open(os.path.join(basedir,'all_pfam_triplet_withID/'+pfamid),'w')\n",
    "    clustered_singlets=open(os.path.join(basedir,'pfam_clustered_singlets/'+pfamid),'w')\n",
    "    clustered_triplets=open(os.path.join(basedir,'pfam_clustered_triplets/'+pfamid),'w')\n",
    "\n",
    "    with open(os.path.join(cluster_dir,pfamid+'.clstr'),'r') as inf:\n",
    "        current_cluster='Cluster 0'\n",
    "        for line in inf:\n",
    "            if line.startswith('>'):\n",
    "                current_cluster=line.replace('>','')\n",
    "                pfam_clusters[current_cluster]=[]\n",
    "                continue\n",
    "            seqid=line.strip().split('>')[1].split('|')[0]\n",
    "            pfam_clusters[current_cluster].append(seqid)\n",
    "              \n",
    "    for cl in pfam_clusters.keys():\n",
    "        if len(pfam_clusters[cl])<minimum_cluster_size:\n",
    "            selected_positions=selected_positions_default\n",
    "        else:\n",
    "            seqlist=[pfam_msa[seqid] for seqid in pfam_clusters[cl]]\n",
    "            try:\n",
    "                selected_positions=select_positions_by_subcluster_consensus(seqlist,max_seq_len)\n",
    "            except:\n",
    "                continue\n",
    "            \n",
    "        for seqid in pfam_clusters[cl]:\n",
    "            singlets=[]\n",
    "            triplets=[]\n",
    "            for i in selected_positions:\n",
    "                first=pfam_msa[seqid][:i-1].replace('.','')\n",
    "                second=pfam_msa[seqid][i]\n",
    "                third=pfam_msa[seqid][i+1:].replace('.','')\n",
    "                singlets.append(second.replace('.',padchar).replace('-',gapchar).lower())\n",
    "                if len(first)>0:\n",
    "                    first=first[-1]\n",
    "                else:\n",
    "                    first='.'\n",
    "                if len(third)>0:\n",
    "                    third=third[0]\n",
    "                else:\n",
    "                    third='.'\n",
    "                triplet=''.join((first,second,third)).lower().replace('.',padchar).replace('-',gapchar)\n",
    "                triplets.append(triplet)\n",
    "            if len(singlets)<max_seq_len:\n",
    "                for i in range(max_seq_len-len(singlets)):\n",
    "                    singlets.append(gapchar)\n",
    "            if len(triplets)<max_seq_len:\n",
    "                for i in range(max_seq_len-len(triplets)):\n",
    "                    triplets.append(gapchar*3)\n",
    "            sentence_singlet=' '.join(singlets)\n",
    "            sentence_triplet=' '.join(triplets)\n",
    "            \n",
    "            if seqid == pfam_clusters[cl][0]: #representative sequence for the cluster\n",
    "                #it is used for pretraining. No sequence ID in the file needed\n",
    "                clustered_singlets.write(sentence_singlet+\"\\n\")\n",
    "                clustered_triplets.write(sentence_triplet+\"\\n\")\n",
    "            all_singlets.write(seqid+'\\t'+pfam_accession[seqid]+'\\t'+sentence_singlet+'\\n')\n",
    "            all_triplets.write(seqid+'\\t'+pfam_accession[seqid]+'\\t'+sentence_triplet+'\\n')\n",
    "        \n",
    "    all_singlets.close()\n",
    "    all_triplets.close()\n",
    "    clustered_singlets.close()\n",
    "    clustered_triplets.close()\n",
    "    gc.collect()\n",
    "    \n",
    "inputs=[]\n",
    "for pfamid in ordered_families[17735:]:\n",
    "    inputs.append(pfamid[0])\n",
    "\n",
    "since=time.time()\n",
    "with Pool(ncpus) as pool:\n",
    "    num_families_processed=0\n",
    "    for res in pool.imap_unordered(preprocess_pfam,inputs):\n",
    "        num_families_processed+=1\n",
    "elapsed=time.time()-since\n",
    "print(\"{:.4f} minutes for {} families\".format(elapsed/60.0, num_families_processed))"
   ]
  },
  {
   "cell_type": "code",
   "execution_count": 16,
   "metadata": {},
   "outputs": [
    {
     "data": {
      "text/plain": [
       "[('PF00063.21', 540512438730.0),\n",
       " ('PF07992.14', 601605427480.0),\n",
       " ('PF00270.29', 616541012960.0),\n",
       " ('PF00873.19', 680584201440.0),\n",
       " ('PF00990.21', 684474117390.0),\n",
       " ('PF02786.17', 686029382790.0),\n",
       " ('PF00501.28', 734182934386.0),\n",
       " ('PF00563.20', 818297857558.0),\n",
       " ('PF07690.16', 849354366452.0),\n",
       " ('PF00072.24', 923627412825.0)]"
      ]
     },
     "execution_count": 16,
     "metadata": {},
     "output_type": "execute_result"
    }
   ],
   "source": [
    "ordered_families[17750:17760]"
   ]
  },
  {
   "cell_type": "code",
   "execution_count": null,
   "metadata": {},
   "outputs": [],
   "source": [
    "Pf00171.22"
   ]
  }
 ],
 "metadata": {
  "kernelspec": {
   "display_name": "rdkit",
   "language": "python",
   "name": "rdkit"
  },
  "language_info": {
   "codemirror_mode": {
    "name": "ipython",
    "version": 3
   },
   "file_extension": ".py",
   "mimetype": "text/x-python",
   "name": "python",
   "nbconvert_exporter": "python",
   "pygments_lexer": "ipython3",
   "version": "3.7.2"
  }
 },
 "nbformat": 4,
 "nbformat_minor": 4
}
